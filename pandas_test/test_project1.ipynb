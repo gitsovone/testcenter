%%time
import pandas as pd
import pickle5 as pickle
pd.set_option('display.max_columns', None)
pd.set_option('display.max_rows', None)

df = pd.read_pickle('contracts_data.pkl')
df_prod = df['products.product']
df_reg = pd.DataFrame(df['_regNum'])
lst = []
for i in df_prod:
    for j in i:
        lst.append(j)
prod_head = pd.json_normalize(lst)
dff = df_reg.join(prod_head,how = 'outer')
