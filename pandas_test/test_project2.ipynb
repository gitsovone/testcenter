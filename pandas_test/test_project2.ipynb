%%time
import pandas as pd
import flatdict
pd.set_option('display.max_columns', None)
pd.set_option('display.max_rows', None)

df = pd.read_pickle('contracts_data.pkl')
df_prod = df['products.product']
df_reg = pd.DataFrame(df['_regNum'])
lst = []
for i in df_prod:
    for j in i:
        lst.append(j)
ops = []
final = []
for i in lst:
    ops.append(flatdict.FlatDict(i))
for i in ops:
    final.append(i)
ddf = pd.DataFrame(final)
